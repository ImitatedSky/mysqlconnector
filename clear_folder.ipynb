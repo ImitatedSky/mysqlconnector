{
  "nbformat": 4,
  "nbformat_minor": 0,
  "metadata": {
    "colab": {
      "provenance": [],
      "authorship_tag": "ABX9TyP5J9Q/UXPWdXeuMpMTrAdm",
      "include_colab_link": true
    },
    "kernelspec": {
      "name": "python3",
      "display_name": "Python 3"
    },
    "language_info": {
      "name": "python"
    }
  },
  "cells": [
    {
      "cell_type": "markdown",
      "metadata": {
        "id": "view-in-github",
        "colab_type": "text"
      },
      "source": [
        "<a href=\"https://colab.research.google.com/github/ImitatedSky/mysqlconnector/blob/main/clear_folder.ipynb\" target=\"_parent\"><img src=\"https://colab.research.google.com/assets/colab-badge.svg\" alt=\"Open In Colab\"/></a>"
      ]
    },
    {
      "cell_type": "code",
      "execution_count": null,
      "metadata": {
        "id": "w46rkmJF5-tm"
      },
      "outputs": [],
      "source": [
        "#clear_folder.py\n",
        "import os\n",
        "\n",
        "def clear_folder(folder_path, file_ext):\n",
        "    # 確認資料夾路徑存在\n",
        "    if os.path.exists(folder_path):\n",
        "        # 取得資料夾中所有檔案\n",
        "        file_list = os.listdir(folder_path)\n",
        "        for file_name in file_list:\n",
        "            # 確認檔案副檔名\n",
        "            if file_name.endswith(file_ext):\n",
        "                # 刪除檔案\n",
        "                os.remove(os.path.join(folder_path, file_name))\n",
        "        print(f\"{file_ext} 檔案已清空。\")\n",
        "    else:\n",
        "        print(f\"資料夾路徑 {folder_path} 不存在。\")\n",
        "\n",
        "# 清空 csv 資料夾\n",
        "clear_folder(\"csv/\", \".csv\")\n",
        "\n",
        "# 清空 img 資料夾 所有類型\n",
        "clear_folder(\"Img/\", \"\")\n"
      ]
    }
  ]
}