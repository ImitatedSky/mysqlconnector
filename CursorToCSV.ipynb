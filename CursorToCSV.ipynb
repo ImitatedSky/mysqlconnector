{
  "nbformat": 4,
  "nbformat_minor": 0,
  "metadata": {
    "colab": {
      "provenance": [],
      "authorship_tag": "ABX9TyO9wqZssyvvHYYrIiQ/rCcj",
      "include_colab_link": true
    },
    "kernelspec": {
      "name": "python3",
      "display_name": "Python 3"
    },
    "language_info": {
      "name": "python"
    }
  },
  "cells": [
    {
      "cell_type": "markdown",
      "metadata": {
        "id": "view-in-github",
        "colab_type": "text"
      },
      "source": [
        "<a href=\"https://colab.research.google.com/github/ImitatedSky/mysqlconnector/blob/main/CursorToCSV.ipynb\" target=\"_parent\"><img src=\"https://colab.research.google.com/assets/colab-badge.svg\" alt=\"Open In Colab\"/></a>"
      ]
    },
    {
      "cell_type": "code",
      "execution_count": null,
      "metadata": {
        "id": "oR7F4s5qyasf"
      },
      "outputs": [],
      "source": [
        "import csv\n",
        "\n",
        "class CursorToCSV:\n",
        "    def __init__(self, cursor, filename):\n",
        "        self.cursor = cursor\n",
        "        self.filename = filename\n",
        "    \n",
        "    def write_csv(self):\n",
        "        with open(self.filename, 'w', newline='') as csvfile:\n",
        "         writer = csv.writer(csvfile)\n",
        "         writer.writerow([i[0] for i in self.cursor.description])\n",
        "         rows = self.cursor.fetchall()\n",
        "         for row in rows:\n",
        "                writer.writerow(row)\n",
        "\n",
        "\n",
        "class JsonToCSV:\n",
        "    def __init__(self, json_file, csv_file):\n",
        "        self.json_file = json_file\n",
        "        self.csv_file = csv_file\n",
        "    \n",
        "    def convert(self):\n",
        "        with open(self.json_file) as json_file:\n",
        "            data = json.load(json_file)\n",
        "            with open(self.csv_file, 'w', newline='') as csv_file:\n",
        "                writer = csv.writer(csv_file)\n",
        "                headers = []\n",
        "                for item in data:\n",
        "                    for key in item:\n",
        "                        if key not in headers:\n",
        "                            headers.append(key)\n",
        "                writer.writerow(headers)\n",
        "                for item in data:\n",
        "                    row = []\n",
        "                    for header in headers:\n",
        "                        if header in item:\n",
        "                            row.append(item[header])\n",
        "                        else:\n",
        "                            row.append(None)\n",
        "                    writer.writerow(row)"
      ]
    }
  ]
}