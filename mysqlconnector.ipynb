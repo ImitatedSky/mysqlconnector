{
  "nbformat": 4,
  "nbformat_minor": 0,
  "metadata": {
    "colab": {
      "provenance": [],
      "authorship_tag": "ABX9TyM16f8UodlBDub5DISTp5xO",
      "include_colab_link": true
    },
    "kernelspec": {
      "name": "python3",
      "display_name": "Python 3"
    },
    "language_info": {
      "name": "python"
    }
  },
  "cells": [
    {
      "cell_type": "markdown",
      "metadata": {
        "id": "view-in-github",
        "colab_type": "text"
      },
      "source": [
        "<a href=\"https://colab.research.google.com/github/ImitatedSky/mysqlconnector/blob/main/mysqlconnector.ipynb\" target=\"_parent\"><img src=\"https://colab.research.google.com/assets/colab-badge.svg\" alt=\"Open In Colab\"/></a>"
      ]
    },
    {
      "cell_type": "code",
      "execution_count": null,
      "metadata": {
        "id": "zAnefrJu4QmZ"
      },
      "outputs": [],
      "source": [
        "#mysqlconnect.py\n",
        "import MySQLdb\n",
        "import json\n",
        "\n",
        "\n",
        "class MySQLConnector:\n",
        "    def __init__(self, user, password, host, database):\n",
        "        self._cnx = MySQLdb.connect(user=user, password=password, host=host, database=database)\n",
        "        self._cursor = self._cnx.cursor()\n",
        "\n",
        "    def cursor(self):\n",
        "        return self._cursor\n",
        "        \n",
        "    def execute_query(self, query):\n",
        "        self._cursor.execute(query)\n",
        "        return self._cursor.fetchall()\n",
        "        \n",
        "    # def __del__(self):\n",
        "    #     self._cursor.close()\n",
        "    #     self._cnx.close()\n",
        "\n",
        "    def close(self):\n",
        "        self._cursor.close()\n",
        "        self._cnx.close()\n",
        "\n",
        "\n",
        "\n",
        "class convertJSON:\n",
        "    def __init__ (self,cursor,columns=None ,one=False):\n",
        "        self._cursor = cursor\n",
        "        self._one = one\n",
        "        self.columns = columns or [column[0] for column in cursor.description]\n",
        "        \n",
        "\n",
        "    def cursor(self):\n",
        "        return self._cursor\n",
        "\n",
        "    def convert(self):\n",
        "        r = [dict((self._cursor.description[i][0], value) \\\n",
        "               for i, value in enumerate(row)) for row in self._cursor.fetchall()]\n",
        "        \n",
        "        return (r[0] if r else None) if self._one else r\n",
        "\n",
        "\n"
      ]
    },
    {
      "cell_type": "code",
      "source": [
        "#main.py\n",
        "from my_package.mysqlconnect import MySQLConnector ,convertJSON\n",
        "import json\n",
        "\n",
        "# 建立MySQL連線\n",
        "cnx = MySQLConnector(user='user', password='password',\n",
        "                     host='host',\n",
        "                     database='database')\n",
        "\n",
        "# 建立游標\n",
        "cursor = cnx.cursor()\n",
        "\n",
        "# 準備 SQL 查詢\n",
        "query = (\"SELECT * FROM database.table;\")\n",
        "\n",
        "# 執行 SQL 查詢\n",
        "cursor.execute(query)\n",
        "\n",
        "# 取得查詢結果\n",
        "# result = cursor.fetchall()\n",
        "\n",
        "\n",
        "# 將查詢結果轉換為 JSON 格式\n",
        "result = convertJSON(cursor=cursor).convert()\n",
        "print(result)\n",
        "\n",
        "\n",
        "# 關閉游標與 MySQL 連線\n",
        "cursor.close()\n",
        "cnx.close()"
      ],
      "metadata": {
        "id": "otjlQFHCNr5K"
      },
      "execution_count": null,
      "outputs": []
    }
  ]
}