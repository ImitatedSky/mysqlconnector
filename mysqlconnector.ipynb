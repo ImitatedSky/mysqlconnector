{
  "nbformat": 4,
  "nbformat_minor": 0,
  "metadata": {
    "colab": {
      "provenance": [],
      "authorship_tag": "ABX9TyM5c0rLWHQ0EEkRf11PEcaJ",
      "include_colab_link": true
    },
    "kernelspec": {
      "name": "python3",
      "display_name": "Python 3"
    },
    "language_info": {
      "name": "python"
    }
  },
  "cells": [
    {
      "cell_type": "markdown",
      "metadata": {
        "id": "view-in-github",
        "colab_type": "text"
      },
      "source": [
        "<a href=\"https://colab.research.google.com/github/ImitatedSky/mysqlconnector/blob/main/mysqlconnector.ipynb\" target=\"_parent\"><img src=\"https://colab.research.google.com/assets/colab-badge.svg\" alt=\"Open In Colab\"/></a>"
      ]
    },
    {
      "cell_type": "code",
      "execution_count": null,
      "metadata": {
        "id": "zAnefrJu4QmZ"
      },
      "outputs": [],
      "source": [
        "import mysql.connector\n",
        "\n",
        "class MySQLConnector:\n",
        "    def __init__(self, user, password, host, database):\n",
        "        self._cnx = mysql.connector.connect(user=user, password=password, host=host, database=database)\n",
        "        self._cursor = self._cnx.cursor()\n",
        "        \n",
        "    def execute_query(self, query):\n",
        "        self._cursor.execute(query)\n",
        "        return self._cursor.fetchall()\n",
        "        \n",
        "    def __del__(self):\n",
        "        self._cursor.close()\n",
        "        self._cnx.close()"
      ]
    }
  ]
}