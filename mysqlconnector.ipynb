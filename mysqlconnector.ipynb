{
  "nbformat": 4,
  "nbformat_minor": 0,
  "metadata": {
    "colab": {
      "provenance": [],
      "authorship_tag": "ABX9TyM+PgCDcjubMpXh6SNjfBUj",
      "include_colab_link": true
    },
    "kernelspec": {
      "name": "python3",
      "display_name": "Python 3"
    },
    "language_info": {
      "name": "python"
    }
  },
  "cells": [
    {
      "cell_type": "markdown",
      "metadata": {
        "id": "view-in-github",
        "colab_type": "text"
      },
      "source": [
        "<a href=\"https://colab.research.google.com/github/ImitatedSky/mysqlconnector/blob/main/mysqlconnector.ipynb\" target=\"_parent\"><img src=\"https://colab.research.google.com/assets/colab-badge.svg\" alt=\"Open In Colab\"/></a>"
      ]
    },
    {
      "cell_type": "code",
      "execution_count": null,
      "metadata": {
        "id": "zAnefrJu4QmZ"
      },
      "outputs": [],
      "source": [
        "import MySQLdb\n",
        "\n",
        "class MySQLConnector:\n",
        "    def __init__(self, user, password, host, database):\n",
        "        self._cnx = MySQLdb.connect(user=user, password=password, host=host, database=database)\n",
        "        self._cursor = self._cnx.cursor()\n",
        "\n",
        "    def cursor(self):\n",
        "        return self._cursor\n",
        "        \n",
        "    def execute_query(self, query):\n",
        "        self._cursor.execute(query)\n",
        "        return self._cursor.fetchall()\n",
        "        \n",
        "    def __del__(self):\n",
        "        self._cursor.close()\n",
        "        self._cnx.close()\n",
        "\n",
        "    def close(self):\n",
        "        self._cursor.close()\n",
        "        self._cnx.close()"
      ]
    }
  ]
}