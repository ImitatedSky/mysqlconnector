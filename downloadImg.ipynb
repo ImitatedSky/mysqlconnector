{
  "nbformat": 4,
  "nbformat_minor": 0,
  "metadata": {
    "colab": {
      "provenance": [],
      "authorship_tag": "ABX9TyNt3Cv6ScissrsN+mLsluya",
      "include_colab_link": true
    },
    "kernelspec": {
      "name": "python3",
      "display_name": "Python 3"
    },
    "language_info": {
      "name": "python"
    }
  },
  "cells": [
    {
      "cell_type": "markdown",
      "metadata": {
        "id": "view-in-github",
        "colab_type": "text"
      },
      "source": [
        "<a href=\"https://colab.research.google.com/github/ImitatedSky/mysqlconnector/blob/main/downloadImg.ipynb\" target=\"_parent\"><img src=\"https://colab.research.google.com/assets/colab-badge.svg\" alt=\"Open In Colab\"/></a>"
      ]
    },
    {
      "cell_type": "code",
      "execution_count": null,
      "metadata": {
        "id": "TBEw5kDMRfIM"
      },
      "outputs": [],
      "source": [
        "import requests\n",
        "# import xml.etree.ElementTree as ET\n",
        "from PIL import Image\n",
        "import matplotlib.pyplot as plt\n",
        "import io\n",
        "import cv2\n",
        "\n",
        "class downloadImg:\n",
        "    def __init__(self, com, num, filename):\n",
        "        self.com = com\n",
        "        self.num = num\n",
        "        self.filename = filename\n",
        "        self.url = 'https://~~~~~~/{}/{}/{}'.format(comp,num,filename)\n",
        "        self.response = requests.get(self.url)\n",
        "\n",
        "    def download(self):\n",
        "        # print(self.response.headers['Content-Type'])\n",
        "        if self.response.headers['Content-Type'] == 'image/jpeg':\n",
        "            with open('Img/{}'.format(self.filename), 'wb') as f:\n",
        "                f.write(self.response.content)\n",
        "\n",
        "        elif self.response.headers['Content-Type'] == 'application/xml':\n",
        "            # 如果是XML，使用ET.fromstring解析\n",
        "            # root = ET.fromstring(response.content)\n",
        "            # do something with the XML root element\n",
        "            print('Error: The specified key does not exist.')\n",
        "\n",
        "        else:\n",
        "            # 其他類型的檔案，直接存成二進位檔案\n",
        "            with open('filename', 'wb') as f:\n",
        "                f.write(self.response.content)\n",
        "    def image(self):\n",
        "        # 返回圖片 PIL \n",
        "        if self.response.headers['Content-Type'] == 'image/jpeg':\n",
        "            image = Image.open(io.BytesIO( self.response.content))\n",
        "            return image;\n",
        "\n",
        "        elif self.response.headers['Content-Type'] == 'application/xml':\n",
        "            # 如果是XML，使用ET.fromstring解析\n",
        "            # root = ET.fromstring(response.content)\n",
        "            # do something with the XML root element\n",
        "            print('Error: The specified key does not exist')\n",
        "    def imageCV(self):\n",
        "        # 返回圖片 OpenCV \n",
        "        if self.response.headers['Content-Type'] == 'image/jpeg':\n",
        "            # Content轉numpy\n",
        "            arr = np.frombuffer(response.content, np.uint8)\n",
        "            # 解碼為圖像\n",
        "            image = cv2.imdecode(arr, cv2.IMREAD_COLOR)\n",
        "            return image;\n",
        "\n",
        "        elif self.response.headers['Content-Type'] == 'application/xml':\n",
        "            # 如果是XML，使用ET.fromstring解析\n",
        "            # root = ET.fromstring(response.content)\n",
        "            # do something with the XML root element\n",
        "            print('Error: The specified key does not exist') "
      ]
    }
  ]
}